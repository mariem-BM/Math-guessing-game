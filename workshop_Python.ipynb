{
  "nbformat": 4,
  "nbformat_minor": 0,
  "metadata": {
    "colab": {
      "name": "workshop-Python.ipynb",
      "provenance": [],
      "collapsed_sections": [],
      "authorship_tag": "ABX9TyP+mKEwX/A6IrQSXFCtFxMX",
      "include_colab_link": true
    },
    "kernelspec": {
      "name": "python3",
      "display_name": "Python 3"
    },
    "language_info": {
      "name": "python"
    }
  },
  "cells": [
    {
      "cell_type": "markdown",
      "metadata": {
        "id": "view-in-github",
        "colab_type": "text"
      },
      "source": [
        "<a href=\"https://colab.research.google.com/github/mariem-BM/Math-guessing-game/blob/main/workshop_Python.ipynb\" target=\"_parent\"><img src=\"https://colab.research.google.com/assets/colab-badge.svg\" alt=\"Open In Colab\"/></a>"
      ]
    },
    {
      "cell_type": "code",
      "execution_count": null,
      "metadata": {
        "id": "aZP7hC8jMirD"
      },
      "outputs": [],
      "source": [
        "#etape1 :chnatiwh borna inf w borne sup w ytala3 num\n",
        "#etape2 : bech njeneriw random number l range li 5terneh w n5biwh f variable bech anrjoulou abed\n",
        "#etape3: while loop 5ater naarfouch 9adeh menmara entychtotleb men user yaatik num ken tala3 s7i7 chto5rej sinon yaawed\n",
        "#f west loop : itha user 3ta nb akber meln um genré aléatoirement jomlet try again \n",
        "#else 3ta num as8etr mel 7achtna bih n9olou try again u guess to small\n",
        "#f le5er si user 3ta num s7i7 9bal al toufa essais teeou \"cingrats u have win\" sinon try again\n",
        "\n"
      ]
    },
    {
      "cell_type": "code",
      "source": [
        "import random \n",
        "import math\n",
        "\n",
        "#taking inputs\n",
        "inf=int(input(\"Enter a lower bound: \")) \n",
        "sup= int(input(\"Enter a upper bound: \"))\n",
        "\n",
        "#generating random number\n",
        "randomNumber=random.randint(inf,sup)\n",
        "chances=round(math.log(sup - inf + 1, 2))\n",
        "chances\n",
        "print(\"\\n\\t y'ouve only \", chances, \"chances to guess the number\\n\")\n",
        "\n",
        "#intilising counter\n",
        "count = 0\n",
        "\n",
        "while count < chances:\n",
        "  count+=1\n",
        "\n",
        "  guess= int(input(\"Guess the number: \"))\n",
        "  \n",
        "  if randomNumber == guess:\n",
        "    print(\"Congrats ! {} tries.\" .format(count))\n",
        "    break\n",
        "  elif randomNumber > guess: \n",
        "    print(\"You guessed too small!\")\n",
        "  elif randomNumber < guess:\n",
        "    print(\"You guessed too high!\")\n",
        "\n",
        "if (count >=chances):\n",
        "  print(\"This number is {} \\n Better luck next time!\".format(randomNumber))\n",
        "\n",
        "\n",
        "\n"
      ],
      "metadata": {
        "colab": {
          "base_uri": "https://localhost:8080/"
        },
        "id": "x_0q3HgzNgZh",
        "outputId": "6df9e053-35bd-4998-a731-7c20b4b7de8e"
      },
      "execution_count": 17,
      "outputs": [
        {
          "output_type": "stream",
          "name": "stdout",
          "text": [
            "Enter a lower bound: 1\n",
            "Enter a upper bound: 4\n",
            "\n",
            "\t y'ouve only  2 chances to guess the number\n",
            "\n",
            "Guess the number: 2\n",
            "You guessed too small!\n",
            "Guess the number: 3\n",
            "Congrats ! 2 tries.\n",
            "This number is 3 \n",
            " Better luck next time!\n"
          ]
        }
      ]
    },
    {
      "cell_type": "code",
      "source": [
        "lower=int(input(\"Enter a lower bound: \")) \n",
        "upper= int(input(\"Enter a upper bound: \"))\n",
        "#generating random number\n",
        "\n",
        "randomNumber=random.randint(lower,upper)"
      ],
      "metadata": {
        "id": "ODuQuTjyPExe"
      },
      "execution_count": null,
      "outputs": []
    }
  ]
}