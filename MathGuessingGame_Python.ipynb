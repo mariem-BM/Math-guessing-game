{
  "nbformat": 4,
  "nbformat_minor": 0,
  "metadata": {
    "colab": {
      "name": "MathGuessingGame-Python.ipynb",
      "provenance": [],
      "collapsed_sections": [],
      "authorship_tag": "ABX9TyMZJTGdjTiJVmF31s0qwaET",
      "include_colab_link": true
    },
    "kernelspec": {
      "name": "python3",
      "display_name": "Python 3"
    },
    "language_info": {
      "name": "python"
    }
  },
  "cells": [
    {
      "cell_type": "markdown",
      "metadata": {
        "id": "view-in-github",
        "colab_type": "text"
      },
      "source": [
        "<a href=\"https://colab.research.google.com/github/mariem-BM/Math-guessing-game/blob/main/MathGuessingGame_Python.ipynb\" target=\"_parent\"><img src=\"https://colab.research.google.com/assets/colab-badge.svg\" alt=\"Open In Colab\"/></a>"
      ]
    },
    {
      "cell_type": "code",
      "source": [
        "import random \n",
        "import math\n",
        "\n",
        "#taking inputs\n",
        "inf=int(input(\"Enter a lower bound: \")) \n",
        "sup= int(input(\"Enter a upper bound: \"))\n",
        "\n",
        "#generating random number\n",
        "randomNumber=random.randint(inf,sup)\n",
        "chances=round(math.log(sup - inf + 1, 2))\n",
        "chances\n",
        "print(\"\\n\\t y'ouve only \", chances, \"chances to guess the number\\n\")\n",
        "\n",
        "#intilising counter\n",
        "count = 0\n",
        "\n",
        "while count < chances:\n",
        "  count+=1\n",
        "\n",
        "  guess= int(input(\"Guess the number: \"))\n",
        "  \n",
        "  if randomNumber == guess:\n",
        "    print(\"Congrats ! {} tries.\" .format(count))\n",
        "    break\n",
        "  elif randomNumber > guess: \n",
        "    print(\"You guessed too small!\")\n",
        "  elif randomNumber < guess:\n",
        "    print(\"You guessed too high!\")\n",
        "\n",
        "if (count >=chances):\n",
        "  print(\"This number is {} \\n Better luck next time!\".format(randomNumber))\n",
        "\n",
        "\n",
        "\n"
      ],
      "metadata": {
        "id": "x_0q3HgzNgZh"
      },
      "execution_count": null,
      "outputs": []
    }
  ]
}